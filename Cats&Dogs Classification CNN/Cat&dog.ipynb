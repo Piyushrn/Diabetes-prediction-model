{
 "cells": [
  {
   "cell_type": "code",
   "execution_count": 1,
   "id": "c905da23",
   "metadata": {},
   "outputs": [],
   "source": [
    "# importing the essentials libraries\n",
    "\n",
    "import numpy as np\n",
    "import matplotlib.pyplot as plt\n",
    "import seaborn as sns\n",
    "import tensorflow\n",
    "from tensorflow import keras\n",
    "from tensorflow.keras.preprocessing.image import ImageDataGenerator       # for analysing the data\n",
    "from tensorflow.keras.preprocessing import image\n",
    "from tensorflow.keras.models import Sequential\n",
    "from tensorflow.keras.layers import Dense,Flatten,Conv2D,MaxPooling2D,Activation\n",
    "from tensorflow.keras.optimizers import Adam\n",
    "from tensorflow.keras.activations import sigmoid,relu,softmax"
   ]
  },
  {
   "cell_type": "code",
   "execution_count": 2,
   "id": "c466818d",
   "metadata": {},
   "outputs": [],
   "source": [
    "# setting the train data path\n",
    "train_data = './train/'      \n",
    "\n",
    "# setting the test data path\n",
    "test_data = './validation/'\n"
   ]
  },
  {
   "cell_type": "code",
   "execution_count": 3,
   "id": "8c93ebd5",
   "metadata": {},
   "outputs": [],
   "source": [
    "# All the size of the images should be same\n",
    "img_width , img_height = 150,150"
   ]
  },
  {
   "cell_type": "code",
   "execution_count": 4,
   "id": "ad5ac507",
   "metadata": {},
   "outputs": [],
   "source": [
    "# labels presents\n",
    "labels = ['cats','dogs']"
   ]
  },
  {
   "cell_type": "code",
   "execution_count": 5,
   "id": "a62a1b8d",
   "metadata": {},
   "outputs": [],
   "source": [
    "# changing the images rescaling hortizontal_flip etc so that our train data is diverse\n",
    "\n",
    "train_gen = ImageDataGenerator(rescale=1/255,shear_range=0.2,horizontal_flip=True,zoom_range=0.2)\n",
    "\n",
    "# we shouldn't do with test data \n",
    "test_gen = ImageDataGenerator(rescale=1./255)\n",
    "\n"
   ]
  },
  {
   "cell_type": "code",
   "execution_count": 6,
   "id": "17016829",
   "metadata": {},
   "outputs": [
    {
     "name": "stdout",
     "output_type": "stream",
     "text": [
      "Found 2000 images belonging to 2 classes.\n",
      "Found 802 images belonging to 2 classes.\n"
     ]
    }
   ],
   "source": [
    "# reading the images from the folders\n",
    "\n",
    "train = train_gen.flow_from_directory(train_data,target_size=(img_height,img_width),classes=labels,class_mode='binary',batch_size=32)\n",
    "test = test_gen.flow_from_directory(test_data,target_size=(img_height,img_width),classes=labels,class_mode='binary',batch_size=32)\n"
   ]
  },
  {
   "cell_type": "code",
   "execution_count": 7,
   "id": "a45b03c9",
   "metadata": {},
   "outputs": [],
   "source": [
    "# developing our model. Customizing our CNN\n",
    "\n",
    "model = Sequential()\n",
    "\n",
    "model.add(Conv2D(128,kernel_size=(3,3),input_shape=(img_height,img_width,3),padding='same',activation='relu'))\n",
    "model.add(MaxPooling2D(pool_size=(2,2)))\n",
    "\n",
    "model.add(Conv2D(64,kernel_size=(3,3),padding='same',activation='relu'))\n",
    "model.add(MaxPooling2D(pool_size=(2,2)))\n",
    "\n",
    "model.add(Conv2D(32,kernel_size=(3,3),padding='same',activation='relu'))\n",
    "model.add(MaxPooling2D(pool_size=(2,2)))\n",
    "\n",
    "model.add(Flatten())\n",
    "model.add(Dense(32,activation='relu'))\n",
    "model.add(Dense(1,activation='sigmoid'))"
   ]
  },
  {
   "cell_type": "code",
   "execution_count": 8,
   "id": "66e04575",
   "metadata": {},
   "outputs": [],
   "source": [
    "# Compiling the model \n",
    "\n",
    "model.compile(optimizer='adam',loss='binary_crossentropy',metrics=['accuracy'])"
   ]
  },
  {
   "cell_type": "code",
   "execution_count": 9,
   "id": "31f8452a",
   "metadata": {},
   "outputs": [],
   "source": [
    "epochs = 10"
   ]
  },
  {
   "cell_type": "code",
   "execution_count": null,
   "id": "f8859cca",
   "metadata": {},
   "outputs": [
    {
     "name": "stdout",
     "output_type": "stream",
     "text": [
      "Epoch 1/10\n",
      "63/63 - 210s - loss: 0.6968 - accuracy: 0.5085 - 210s/epoch - 3s/step\n",
      "Epoch 2/10\n",
      "63/63 - 188s - loss: 0.6835 - accuracy: 0.5650 - 188s/epoch - 3s/step\n",
      "Epoch 3/10\n",
      "63/63 - 184s - loss: 0.6611 - accuracy: 0.6180 - 184s/epoch - 3s/step\n",
      "Epoch 4/10\n",
      "63/63 - 185s - loss: 0.6280 - accuracy: 0.6570 - 185s/epoch - 3s/step\n",
      "Epoch 5/10\n",
      "63/63 - 177s - loss: 0.6190 - accuracy: 0.6600 - 177s/epoch - 3s/step\n",
      "Epoch 6/10\n",
      "63/63 - 179s - loss: 0.5862 - accuracy: 0.7025 - 179s/epoch - 3s/step\n",
      "Epoch 7/10\n"
     ]
    }
   ],
   "source": [
    "model.fit(train,epochs=epochs,verbose=2)"
   ]
  },
  {
   "cell_type": "code",
   "execution_count": null,
   "id": "e99f3a09",
   "metadata": {},
   "outputs": [],
   "source": [
    "# 9 epochs giving the best accuracy and less loss"
   ]
  },
  {
   "cell_type": "code",
   "execution_count": null,
   "id": "3fa56c17",
   "metadata": {},
   "outputs": [],
   "source": [
    "train_loss = model.history.history['loss']"
   ]
  },
  {
   "cell_type": "code",
   "execution_count": null,
   "id": "e0cf9141",
   "metadata": {},
   "outputs": [],
   "source": [
    "train_acc = model.history.history['accuracy']"
   ]
  },
  {
   "cell_type": "code",
   "execution_count": null,
   "id": "cf00ccc3",
   "metadata": {},
   "outputs": [],
   "source": [
    "plt.figure(figsize=(7,7))\n",
    "plt.plot(np.arange(epochs ),train_loss,color='r',label='train_loss')\n",
    "plt.plot(np.arange(epochs),train_acc,color='y',label='train_acc')\n",
    "plt.legend()\n",
    "plt.xlabel('epochs')\n",
    "plt.show()"
   ]
  },
  {
   "cell_type": "code",
   "execution_count": null,
   "id": "e820b4b0",
   "metadata": {},
   "outputs": [],
   "source": [
    "# Testing the model on test data\n",
    "\n",
    "test_loss , test_acc = model.evaluate(test)"
   ]
  },
  {
   "cell_type": "code",
   "execution_count": null,
   "id": "8c84b701",
   "metadata": {},
   "outputs": [],
   "source": [
    "print(test_loss)\n",
    "print(test_acc)"
   ]
  },
  {
   "cell_type": "code",
   "execution_count": null,
   "id": "0f075855",
   "metadata": {},
   "outputs": [],
   "source": []
  },
  {
   "cell_type": "code",
   "execution_count": null,
   "id": "1a7773b6",
   "metadata": {},
   "outputs": [],
   "source": [
    "# function for making our predictions\n",
    "\n",
    "def fun(img):\n",
    "    imgs = image.load_img(img,target_size=(img_width,img_height))\n",
    "    plt.imshow(imgs)\n",
    "    img_arr = image.img_to_array(imgs)\n",
    "    print(img_arr.shape)\n",
    "    print('------------------------>')\n",
    "    a = np.expand_dims(img_arr,axis=0)  # rows \n",
    "    print(a.shape)\n",
    "    print('------------->')\n",
    "    result = model.predict(a)\n",
    "    print(\"result = \",result)\n",
    "    print('----------------------')\n",
    "    c = model.predict(a)\n",
    "    print('classes = ',model.predict(a))\n",
    "    if c[0] > 0.5:\n",
    "        print(\"res = \",'dog')\n",
    "    else:\n",
    "        print('res = ','cat')"
   ]
  },
  {
   "cell_type": "code",
   "execution_count": null,
   "id": "8720b420",
   "metadata": {},
   "outputs": [],
   "source": [
    "fun('./images (1).jpg')"
   ]
  },
  {
   "cell_type": "code",
   "execution_count": null,
   "id": "7c136b8a",
   "metadata": {},
   "outputs": [],
   "source": [
    "fun('./download.jpg')"
   ]
  },
  {
   "cell_type": "code",
   "execution_count": null,
   "id": "89536632",
   "metadata": {},
   "outputs": [],
   "source": [
    "fun('./download (1).jpg')"
   ]
  },
  {
   "cell_type": "code",
   "execution_count": null,
   "id": "0b3db555",
   "metadata": {},
   "outputs": [],
   "source": [
    "fun('./download (2).jpg')"
   ]
  },
  {
   "cell_type": "code",
   "execution_count": null,
   "id": "299d653d",
   "metadata": {},
   "outputs": [],
   "source": []
  }
 ],
 "metadata": {
  "kernelspec": {
   "display_name": "Python 3 (ipykernel)",
   "language": "python",
   "name": "python3"
  },
  "language_info": {
   "codemirror_mode": {
    "name": "ipython",
    "version": 3
   },
   "file_extension": ".py",
   "mimetype": "text/x-python",
   "name": "python",
   "nbconvert_exporter": "python",
   "pygments_lexer": "ipython3",
   "version": "3.9.13"
  }
 },
 "nbformat": 4,
 "nbformat_minor": 5
}
